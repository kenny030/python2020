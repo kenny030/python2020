{
  "nbformat": 4,
  "nbformat_minor": 0,
  "metadata": {
    "colab": {
      "name": "2_0_資料型態(data_Type)及其各種運算教學版_20201026.ipynb",
      "provenance": [],
      "collapsed_sections": [],
      "include_colab_link": true
    },
    "kernelspec": {
      "name": "python3",
      "display_name": "Python 3"
    }
  },
  "cells": [
    {
      "cell_type": "markdown",
      "metadata": {
        "id": "view-in-github",
        "colab_type": "text"
      },
      "source": [
        "<a href=\"https://colab.research.google.com/github/kenny030/python2020/blob/main/2_0_%E8%B3%87%E6%96%99%E5%9E%8B%E6%85%8B(data_Type)%E5%8F%8A%E5%85%B6%E5%90%84%E7%A8%AE%E9%81%8B%E7%AE%97_20201026.ipynb\" target=\"_parent\"><img src=\"https://colab.research.google.com/assets/colab-badge.svg\" alt=\"Open In Colab\"/></a>"
      ]
    },
    {
      "cell_type": "markdown",
      "metadata": {
        "id": "bMV4OKWxD5qO"
      },
      "source": [
        "# Python有眾多資料型態(data Type)及其各種運算\n",
        "```\n",
        "    >* 數值(Numeric)資料及其運算\n",
        "    >* 字串(string)及其運算\n",
        "    >* 列表(list)資料及其運算\n",
        "    >* 字典(dict)資料及其運算  \n",
        "    >*[自我練習]tuple資料及其運算  \n",
        "    >*[自我練習]set資料及其運算  \n",
        "```\n",
        "```\n",
        " 本課程規劃讓同學快速掌握python程式的開發技術\n",
        " 還有更多技術及細節 請務必閱讀更多教材深入\n",
        "```\n",
        "\n",
        "# 資料型態(Data Type)學習重點:\n",
        "```\n",
        "各種運算\n",
        "各種內建函數\n",
        "型態轉換\n",
        "運算優先順序\n",
        "```\n",
        "\n",
        "[進階範例]底下程式執行後結果為何?\n",
        "```\n",
        "from queue import Queue\n",
        "q = Queue()\n",
        "q.put(1)\n",
        "q.put(2)\n",
        "q.put(3)\n",
        "q\n",
        "print(q.queue)\n",
        "\n",
        "q.get()\n",
        " ```"
      ]
    },
    {
      "cell_type": "code",
      "metadata": {
        "id": "515B_TC9ny6_"
      },
      "source": [
        "from queue import Queue\n",
        "q = Queue()\n",
        "q.put(1)\n",
        "q.put(2)\n",
        "q.put(3)\n",
        "q\n",
        "print(q.queue)\n",
        " \n",
        "q.get()"
      ],
      "execution_count": null,
      "outputs": []
    },
    {
      "cell_type": "markdown",
      "metadata": {
        "id": "SH2nCJ6iE77w"
      },
      "source": [
        "# 快速入門 \n",
        "\n",
        "# [1]數值(Numeric)資料及其運算\n",
        "```\n",
        "Python 支持三種不同的數值型別(Data Type)：\n",
        "\n",
        "[1]Int 整數，是可以是正或負整數，不帶小數點。\n",
        "   Python3  int是沒有限制大小的，可以當作 Long 類型使用，所以 Python3 沒有 Python2 的 Long 類型。\n",
        "\n",
        "[2]浮點數(float) :由整數部分與小數部分組成，浮點型也可以使用科學計數法表示（2.5e2 = 2.5 x 10 0 = 250）\n",
        "\n",
        "[3]複數( (complex)) - 複數由實數部分和虛數部分構成，可以用a + bj,或者complex(a,b)表示， 複數的實部a和虛部b都是浮點型。\n",
        "\n",
        "https://www.w3schools.com/python/python_exercises.asp\n",
        "```"
      ]
    },
    {
      "cell_type": "markdown",
      "metadata": {
        "id": "KYaeiEBVPr-e"
      },
      "source": [
        "[實作練習]底下程式執行後結果為何?\n",
        "```\n",
        "a = 17 / 3\n",
        "b = 17 // 3\n",
        "c = 17 % 3\n",
        "\n",
        "a,b,c\n",
        "```"
      ]
    },
    {
      "cell_type": "code",
      "metadata": {
        "id": "7QpLhiAfbgQD"
      },
      "source": [
        "a = 17 / 3\n",
        "b = 17 // 3\n",
        "c = 17 % 3\n",
        " \n",
        "a,b,c"
      ],
      "execution_count": null,
      "outputs": []
    },
    {
      "cell_type": "markdown",
      "metadata": {
        "id": "e1VVU1VQFBGz"
      },
      "source": [
        "# [2]字串(string)及其運算\n",
        "\n",
        "```\n",
        "字串(string)\n",
        "變數值以一對雙引號 (「\"」)或單引號 (「'」)\n",
        "存取字串中的值: 使用方括號\n",
        "```\n"
      ]
    },
    {
      "cell_type": "markdown",
      "metadata": {
        "id": "zxRwLkAWP_3o"
      },
      "source": [
        "[實作練習]底下程式執行後結果為何?\n",
        "```\n",
        "var1 = 'Hello Python!'\n",
        " \n",
        "print(\"var1[0]: \", var1[0])\n",
        "print(\"var1[1:8]: \", var1[1:8])\n",
        "```\n"
      ]
    },
    {
      "cell_type": "code",
      "metadata": {
        "id": "N-0FEuNVntMl"
      },
      "source": [
        "var1 = 'Hello Python!'\n",
        " \n",
        "print(\"var1[0]: \", var1[0])\n",
        "print(\"var1[1:8]: \", var1[1:8])"
      ],
      "execution_count": null,
      "outputs": []
    },
    {
      "cell_type": "markdown",
      "metadata": {
        "id": "sBrU19ZdQRab"
      },
      "source": [
        "[實作練習] 填入程式使輸出為 Hello World!\n",
        "```\n",
        "var1 = 'Hello Python!'\n",
        "\n",
        "print(\"var1[1:8]: \", var1[1:8])\n",
        "```"
      ]
    },
    {
      "cell_type": "code",
      "metadata": {
        "id": "gOL_QucInlej"
      },
      "source": [
        "var1 = 'Hello World!'\n",
        " \n",
        "print(\"var1[1:8]: \", var1[1:8])"
      ],
      "execution_count": null,
      "outputs": []
    },
    {
      "cell_type": "markdown",
      "metadata": {
        "id": "F2m02SCgFEv1"
      },
      "source": [
        "# [3]列表(list)資料及其運算\n",
        "```\n",
        "LIST是 Python 中最基本的資料結構。\n",
        "LIST使用一個方括號內的逗號分隔值出現。\n",
        "\n",
        "LIST的每個值都有對應的位置，稱之為索引( index)，\n",
        "第一個索引是 0，第二個索引是 1，依此類推。\n",
        "\n",
        "LIST都可以進行的操作包括索引，切片，加，乘，檢查成員。\n",
        "\n",
        "Python 內建許多函數: \n",
        "1.len(list):元素個數\n",
        "2.max(list)返回元素最大值\n",
        "3.min(list):返回元素最小值\n",
        "```"
      ]
    },
    {
      "cell_type": "markdown",
      "metadata": {
        "id": "OxKYbWhCSOf3"
      },
      "source": [
        "\n",
        "\n",
        "底下程式執行後結果為何?\n",
        "```\n",
        "list1 = [21, 33, 14, 12, 32, 98]\n",
        "\n",
        "list1[1]\n",
        "```"
      ]
    },
    {
      "cell_type": "code",
      "metadata": {
        "id": "mLEqhnlEnhUm"
      },
      "source": [
        "list1 = [21, 33, 14, 12, 32, 98]\n",
        " \n",
        "list1[1]"
      ],
      "execution_count": null,
      "outputs": []
    },
    {
      "cell_type": "markdown",
      "metadata": {
        "id": "bCb5CGP5SdK4"
      },
      "source": [
        "底下程式執行後結果為何?\n",
        "```\n",
        "list1 = [21, 33, 14, 12, 32, 98]\n",
        "\n",
        "list1[-2]\n",
        "```"
      ]
    },
    {
      "cell_type": "code",
      "metadata": {
        "id": "On81H1xRiCPF",
        "outputId": "9eeeb699-30fd-43d4-d9a3-feb9eed4fce4",
        "colab": {
          "base_uri": "https://localhost:8080/",
          "height": 34
        }
      },
      "source": [
        "list1 = [21, 33, 14, 12, 32, 98]\n",
        " \n",
        "list1[-2]"
      ],
      "execution_count": 1,
      "outputs": [
        {
          "output_type": "execute_result",
          "data": {
            "text/plain": [
              "32"
            ]
          },
          "metadata": {
            "tags": []
          },
          "execution_count": 1
        }
      ]
    },
    {
      "cell_type": "markdown",
      "metadata": {
        "id": "tdFebTXVF3ag"
      },
      "source": [
        "底下程式執行後結果為何?\n",
        "```\n",
        "len(list1)\n",
        "```"
      ]
    },
    {
      "cell_type": "code",
      "metadata": {
        "id": "lnnBMceHidAu",
        "outputId": "9b88adec-40b2-4f3b-b7f1-345f2b135552",
        "colab": {
          "base_uri": "https://localhost:8080/",
          "height": 34
        }
      },
      "source": [
        "len(list1)"
      ],
      "execution_count": 2,
      "outputs": [
        {
          "output_type": "execute_result",
          "data": {
            "text/plain": [
              "6"
            ]
          },
          "metadata": {
            "tags": []
          },
          "execution_count": 2
        }
      ]
    },
    {
      "cell_type": "markdown",
      "metadata": {
        "id": "8yu5XNgqF5Nm"
      },
      "source": [
        "底下程式執行後結果為何?\n",
        "```\n",
        "max(list1)\n",
        "```"
      ]
    },
    {
      "cell_type": "code",
      "metadata": {
        "id": "vo5kYeO6ig7P",
        "outputId": "11576f5b-7573-413b-c2f6-8d87d7fc0154",
        "colab": {
          "base_uri": "https://localhost:8080/",
          "height": 34
        }
      },
      "source": [
        "max(list1)"
      ],
      "execution_count": 3,
      "outputs": [
        {
          "output_type": "execute_result",
          "data": {
            "text/plain": [
              "98"
            ]
          },
          "metadata": {
            "tags": []
          },
          "execution_count": 3
        }
      ]
    },
    {
      "cell_type": "markdown",
      "metadata": {
        "id": "QyWB_6d4GE8u"
      },
      "source": [
        "底下程式執行後結果為何?\n",
        "```\n",
        "min(list1)\n",
        "```"
      ]
    },
    {
      "cell_type": "code",
      "metadata": {
        "id": "BZKI52w-izUn",
        "outputId": "2fe80358-3b84-438b-91d6-207935e15d91",
        "colab": {
          "base_uri": "https://localhost:8080/",
          "height": 34
        }
      },
      "source": [
        "min(list1)"
      ],
      "execution_count": 4,
      "outputs": [
        {
          "output_type": "execute_result",
          "data": {
            "text/plain": [
              "12"
            ]
          },
          "metadata": {
            "tags": []
          },
          "execution_count": 4
        }
      ]
    },
    {
      "cell_type": "markdown",
      "metadata": {
        "id": "8rNiPGNwGHjg"
      },
      "source": [
        "底下程式執行後結果為何?\n",
        "```\n",
        "sum(list1)\n",
        "```"
      ]
    },
    {
      "cell_type": "code",
      "metadata": {
        "id": "5n1tNHhxmOMY",
        "outputId": "38ec341b-5cfb-4cf6-fa5b-a7788da7184c",
        "colab": {
          "base_uri": "https://localhost:8080/",
          "height": 34
        }
      },
      "source": [
        "sum(list1)"
      ],
      "execution_count": 5,
      "outputs": [
        {
          "output_type": "execute_result",
          "data": {
            "text/plain": [
              "210"
            ]
          },
          "metadata": {
            "tags": []
          },
          "execution_count": 5
        }
      ]
    },
    {
      "cell_type": "markdown",
      "metadata": {
        "id": "qFy2Obj5FIwL"
      },
      "source": [
        "# [4]字典(dict)資料及其運算 \n",
        "```\n",
        "字典的每筆資料都使用key(鍵)=>value(值) pair(對)\n",
        "每筆資料都使用冒號 : 分割\n",
        "每對之間用逗號(,)分割，\n",
        "整個字典包括在花括弧 {} \n",
        "\n",
        "key(鍵)必須是唯一的，但value(值)則不必。\n",
        "\n",
        "Python 內建許多函數: \n",
        "\tlen(dict):計算字典元素個數，即鍵的總數。\n",
        "\n",
        "\n",
        "Python 內建許多方法(Method):\n",
        "字典.items():以列表返回LIST陣列\n",
        "字典.keys():返回所有keys\n",
        "字典.values():返回所有values\n",
        "```"
      ]
    },
    {
      "cell_type": "markdown",
      "metadata": {
        "id": "gSGyRBWTUDmC"
      },
      "source": [
        "底下程式執行後結果為何?\n",
        "``` \n",
        "dict = {'Name': 'DaDaLong', 'Age': 17, 'Class': 'First'}\n",
        " \n",
        "print(\"dict['Name']: \", dict['Name'])\n",
        "print(\"dict['Age']: \", dict['Age'])\n",
        "```"
      ]
    },
    {
      "cell_type": "code",
      "metadata": {
        "id": "ei_4ZpACmn7B",
        "outputId": "41e046d7-4252-4c7c-96e3-f223ed63d018",
        "colab": {
          "base_uri": "https://localhost:8080/",
          "height": 51
        }
      },
      "source": [
        "dict = {'Name': 'kenny', 'Age': 17, 'Class': 'First'}\n",
        " \n",
        "print(\"dict['Name']: \", dict['Name'])\n",
        "print(\"dict['Age']: \", dict['Age'])"
      ],
      "execution_count": 8,
      "outputs": [
        {
          "output_type": "stream",
          "text": [
            "dict['Name']:  kenny\n",
            "dict['Age']:  17\n"
          ],
          "name": "stdout"
        }
      ]
    },
    {
      "cell_type": "markdown",
      "metadata": {
        "id": "J6l_D0CeVf10"
      },
      "source": [
        "底下程式執行後結果為何?\n",
        "```\n",
        "dict = {'Name': 'DaDaLong', 'Age': 17, 'Class': 'First'}\n",
        "dict.items()\n",
        "```"
      ]
    },
    {
      "cell_type": "code",
      "metadata": {
        "id": "xLrqE6wjnHwu",
        "outputId": "639d42e0-a5e8-4296-df6c-ecb01a9d8d6c",
        "colab": {
          "base_uri": "https://localhost:8080/",
          "height": 34
        }
      },
      "source": [
        "dict = {'Name': 'DaDaLong', 'Age': 17, 'Class': 'First'}\n",
        "dict.items()"
      ],
      "execution_count": 9,
      "outputs": [
        {
          "output_type": "execute_result",
          "data": {
            "text/plain": [
              "dict_items([('Name', 'DaDaLong'), ('Age', 17), ('Class', 'First')])"
            ]
          },
          "metadata": {
            "tags": []
          },
          "execution_count": 9
        }
      ]
    },
    {
      "cell_type": "markdown",
      "metadata": {
        "id": "8pqofW6sVMmb"
      },
      "source": [
        "[程式比較]和上述程式輸出有何不同?\n",
        "```\n",
        "dict = {'Name': 'DaDaLong', 'Age': 17, 'Class': 'First'}\n",
        "list(dict.items())\n",
        "```"
      ]
    },
    {
      "cell_type": "code",
      "metadata": {
        "id": "vwLiTkKdnMLg"
      },
      "source": [
        "dict = {'Name': 'kenny', 'Age': 17, 'Class': 'First'}\n",
        "list(dict.items())"
      ],
      "execution_count": null,
      "outputs": []
    },
    {
      "cell_type": "markdown",
      "metadata": {
        "id": "RoQqsuycVZY5"
      },
      "source": [
        "\n",
        "```\n",
        "dict = {'Name': 'DaDaLong', 'Age': 17, 'Class': 'First'}\n",
        "list(dict.keys())\n",
        "```"
      ]
    },
    {
      "cell_type": "code",
      "metadata": {
        "id": "GrUdqw-nnQXR"
      },
      "source": [
        "dict = {'Name': 'DaDaLong', 'Age': 17, 'Class': 'First'}\n",
        "list(dict.keys())"
      ],
      "execution_count": null,
      "outputs": []
    }
  ]
}